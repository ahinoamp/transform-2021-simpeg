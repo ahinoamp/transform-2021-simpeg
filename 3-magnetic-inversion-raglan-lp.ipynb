{
 "cells": [
  {
   "cell_type": "markdown",
   "metadata": {
    "iooxa": {
     "id": {
      "block": "h6m9YbHtjm7lMhF3zATA",
      "project": "FesuZy9nERkRH9r67vBe",
      "version": 1
     }
    }
   },
   "source": [
    "# 3D Magnetic Inversion of Raglan Data with Lp-norm\n",
    "\n",
    "In this notebook, we inverted the magnetic data acquired at [Raglan deposit](https://en.wikipedia.org/wiki/Raglan_Mine) located in Northern Quebec, Canada to obtain a three-dimensional susceptibility model of the subsurface. Magnetic module of an open-source geophysics software, [SimPEG ](https://www.simpeg.xyz) was used for this inversion. \n",
    "\n",
    "About 20 years ago, this data was inverted using the [MAG3D code](https://mag3d.readthedocs.io/en/latest/content/overview.html) developed by [UBC-GIF](https://gif.eos.ubc.ca/about) group, and a 3D susceptibility model was obtained. This was sort of the first time that field magnetic data was inverted in 3D, and made a significant impact on locating drilling location for a mineral exploration. \n",
    "\n",
    "In the [previous notebook](./1-magnetic-inversion-raglan-reproduce), we inverted these magnetic data using an L2-norm inversion. To promote the compactness of the target body, we used the Lp-norm inversion approach (Founier and Oldenburg, 2019). "
   ]
  },
  {
   "cell_type": "markdown",
   "metadata": {
    "iooxa": {
     "id": {
      "block": "xSOil0mBA9bWRmvStN41",
      "project": "FesuZy9nERkRH9r67vBe",
      "version": 1
     }
    }
   },
   "source": [
    "<center>\n",
    "<img src=\"./figures/mag3disco.gif\", class=\"center\"></img>\n",
    "</center>"
   ]
  },
  {
   "cell_type": "markdown",
   "metadata": {
    "iooxa": {
     "id": {
      "block": "rh4isubZDWAIl9CGuTHm",
      "project": "FesuZy9nERkRH9r67vBe",
      "version": 1
     }
    }
   },
   "source": [
    "## Import modules\n",
    "\n",
    "\n"
   ]
  },
  {
   "cell_type": "code",
   "execution_count": 1,
   "metadata": {
    "iooxa": {
     "id": {
      "block": "Dv1sFnCMjAak6eeNfTDV",
      "project": "FesuZy9nERkRH9r67vBe",
      "version": 1
     },
     "outputId": null
    }
   },
   "outputs": [],
   "source": [
    "%matplotlib inline\n",
    "import matplotlib\n",
    "import os\n",
    "import numpy as np\n",
    "import matplotlib as mpl\n",
    "import matplotlib.pyplot as plt\n",
    "import tarfile\n",
    "\n",
    "from discretize import TensorMesh\n",
    "from discretize.utils import mesh_builder_xyz\n",
    "\n",
    "from SimPEG.potential_fields import magnetics\n",
    "from SimPEG import dask\n",
    "from SimPEG.utils import plot2Ddata, surface2ind_topo\n",
    "from SimPEG import (\n",
    "    maps,\n",
    "    data,\n",
    "    inverse_problem,\n",
    "    data_misfit,\n",
    "    regularization,\n",
    "    optimization,\n",
    "    directives,\n",
    "    inversion,\n",
    "    utils,\n",
    ")\n",
    "import pandas as pd\n",
    "from ipywidgets import widgets, interact"
   ]
  },
  {
   "cell_type": "markdown",
   "metadata": {
    "iooxa": {
     "id": {
      "block": "Yv24shLad5ZjXMm0aQlU",
      "project": "FesuZy9nERkRH9r67vBe",
      "version": 1
     }
    }
   },
   "source": [
    "## Load Data and Plot"
   ]
  },
  {
   "cell_type": "code",
   "execution_count": 2,
   "metadata": {
    "iooxa": {
     "id": {
      "block": "korKsPB9v4Yugw9fFSZX",
      "project": "FesuZy9nERkRH9r67vBe",
      "version": 1
     },
     "outputId": null
    }
   },
   "outputs": [],
   "source": [
    "def read_ubc_magnetic_data(data_filename):\n",
    "    with open(data_filename, 'r') as f:\n",
    "        lines = f.readlines()\n",
    "    tmp = np.array(lines[0].split()[:3]).astype(float)\n",
    "    n_data = int(float(lines[2].split()[0]))\n",
    "    meta_data = {}\n",
    "    meta_data['inclination'] = float(tmp[0])\n",
    "    meta_data['declination'] = float(tmp[1])\n",
    "    meta_data['b0'] = float(tmp[2])\n",
    "    meta_data['n_data'] = n_data\n",
    "    data = np.zeros((n_data, 5), order='F')\n",
    "    for i_data in range(n_data):\n",
    "        data[i_data,:] = np.array(lines[3+i_data].split()).astype(float)\n",
    "    df = pd.DataFrame(data=data, columns=['x', 'y', 'z', 'data', 'data_error'])\n",
    "    return df, meta_data"
   ]
  },
  {
   "cell_type": "code",
   "execution_count": 37,
   "metadata": {
    "iooxa": {
     "id": {
      "block": "rMcHA8kIQWWj9HIGWNK9",
      "project": "FesuZy9nERkRH9r67vBe",
      "version": 1
     },
     "outputId": null
    }
   },
   "outputs": [],
   "source": [
    "data_filename = \"./data/Raglan_1997/obs.mag\"\n",
    "df, meta_data = read_ubc_magnetic_data(data_filename)"
   ]
  },
  {
   "cell_type": "code",
   "execution_count": 39,
   "metadata": {
    "iooxa": {
     "id": {
      "block": "XOiiqBjRIICg98V2ZO83",
      "project": "FesuZy9nERkRH9r67vBe",
      "version": 1
     },
     "outputId": {
      "block": "qrnOaXVwP2Tw1rDgeVUB",
      "project": "FesuZy9nERkRH9r67vBe",
      "version": 1
     }
    }
   },
   "outputs": [
    {
     "data": {
      "text/plain": [
       "{'inclination': 83.0, 'declination': -32.0, 'b0': 60000.0, 'n_data': 1638}"
      ]
     },
     "execution_count": 39,
     "metadata": {},
     "output_type": "execute_result"
    }
   ],
   "source": [
    "meta_data"
   ]
  },
  {
   "cell_type": "code",
   "execution_count": 5,
   "metadata": {
    "iooxa": {
     "id": {
      "block": "6kxgIwhyE2xrH13C8k4d",
      "project": "FesuZy9nERkRH9r67vBe",
      "version": 1
     },
     "outputId": {
      "block": "ph0hlnhwbZpEtCLXojCI",
      "project": "FesuZy9nERkRH9r67vBe",
      "version": 1
     }
    }
   },
   "outputs": [
    {
     "data": {
      "text/html": [
       "<div>\n",
       "<style scoped>\n",
       "    .dataframe tbody tr th:only-of-type {\n",
       "        vertical-align: middle;\n",
       "    }\n",
       "\n",
       "    .dataframe tbody tr th {\n",
       "        vertical-align: top;\n",
       "    }\n",
       "\n",
       "    .dataframe thead th {\n",
       "        text-align: right;\n",
       "    }\n",
       "</style>\n",
       "<table border=\"1\" class=\"dataframe\">\n",
       "  <thead>\n",
       "    <tr style=\"text-align: right;\">\n",
       "      <th></th>\n",
       "      <th>x</th>\n",
       "      <th>y</th>\n",
       "      <th>z</th>\n",
       "      <th>data</th>\n",
       "      <th>data_error</th>\n",
       "    </tr>\n",
       "  </thead>\n",
       "  <tbody>\n",
       "    <tr>\n",
       "      <th>0</th>\n",
       "      <td>509.0</td>\n",
       "      <td>42958.0</td>\n",
       "      <td>40.0</td>\n",
       "      <td>42.90</td>\n",
       "      <td>5.8580</td>\n",
       "    </tr>\n",
       "    <tr>\n",
       "      <th>1</th>\n",
       "      <td>504.0</td>\n",
       "      <td>42858.0</td>\n",
       "      <td>40.0</td>\n",
       "      <td>88.32</td>\n",
       "      <td>6.7664</td>\n",
       "    </tr>\n",
       "    <tr>\n",
       "      <th>2</th>\n",
       "      <td>499.3</td>\n",
       "      <td>42758.0</td>\n",
       "      <td>40.0</td>\n",
       "      <td>86.11</td>\n",
       "      <td>6.7222</td>\n",
       "    </tr>\n",
       "  </tbody>\n",
       "</table>\n",
       "</div>"
      ],
      "text/plain": [
       "       x        y     z   data  data_error\n",
       "0  509.0  42958.0  40.0  42.90      5.8580\n",
       "1  504.0  42858.0  40.0  88.32      6.7664\n",
       "2  499.3  42758.0  40.0  86.11      6.7222"
      ]
     },
     "execution_count": 5,
     "metadata": {},
     "output_type": "execute_result"
    }
   ],
   "source": [
    "df.head(3)"
   ]
  },
  {
   "cell_type": "code",
   "execution_count": 6,
   "metadata": {
    "iooxa": {
     "id": {
      "block": "vVCY1DmVrHu4P4nKOwF8",
      "project": "FesuZy9nERkRH9r67vBe",
      "version": 1
     },
     "outputId": {
      "block": "g2j93s9wm5GwIO2JeCQs",
      "project": "FesuZy9nERkRH9r67vBe",
      "version": 1
     }
    }
   },
   "outputs": [
    {
     "data": {
      "image/png": "[encoded data removed]",
      "text/plain": [
       "<Figure size 864x720 with 2 Axes>"
      ]
     },
     "metadata": {
      "needs_background": "light"
     },
     "output_type": "display_data"
    }
   ],
   "source": [
    "# Down sample the data\n",
    "matplotlib.rcParams['font.size'] = 14\n",
    "nskip = 2\n",
    "receiver_locations = df[['x', 'y', 'z']].values[::nskip,:]\n",
    "xyz_topo = np.c_[receiver_locations[:,:2], np.zeros(receiver_locations.shape[0])]\n",
    "dobs = df['data'].values[::nskip]\n",
    "# Plot\n",
    "fig = plt.figure(figsize=(12, 10))\n",
    "vmin, vmax = np.percentile(dobs, 0.5), np.percentile(dobs, 99.5)\n",
    "tmp = np.clip(dobs, vmin, vmax)\n",
    "ax1 = fig.add_axes([0.1, 0.1, 0.75, 0.85])\n",
    "plot2Ddata(\n",
    "    receiver_locations,\n",
    "    tmp,\n",
    "    ax=ax1,\n",
    "    ncontour=30,\n",
    "    clim=(vmin-5, vmax+5),\n",
    "    contourOpts={\"cmap\": \"Spectral_r\"},\n",
    ")\n",
    "ax1.set_title(\"TMI Anomaly\")\n",
    "ax1.set_xlabel(\"x (m)\")\n",
    "ax1.set_ylabel(\"y (m)\")\n",
    "\n",
    "ax2 = fig.add_axes([0.9, 0.25, 0.05, 0.5])\n",
    "\n",
    "norm = mpl.colors.Normalize(vmin=vmin, vmax=vmax)\n",
    "cbar = mpl.colorbar.ColorbarBase(\n",
    "    ax2, norm=norm, orientation=\"vertical\", cmap=mpl.cm.Spectral_r\n",
    ")\n",
    "cbar.set_label(\"$nT$\", rotation=270, labelpad=15, size=12)\n",
    "\n",
    "plt.show()"
   ]
  },
  {
   "cell_type": "markdown",
   "metadata": {
    "iooxa": {
     "id": {
      "block": "u7sQlIJtgfFAj8oXcClo",
      "project": "FesuZy9nERkRH9r67vBe",
      "version": 1
     }
    }
   },
   "source": [
    "## Assign Uncertainty\n",
    "\n",
    "Inversion with SimPEG requires that we define data error i.e., standard deviation on the observed data.\n",
    "This represents our estimate of the noise in our data. \n",
    "For this magnetic inversion, 2% relative error and a noise floor of 2 nT are assigned. "
   ]
  },
  {
   "cell_type": "code",
   "execution_count": 7,
   "metadata": {
    "iooxa": {
     "id": {
      "block": "nj91uOIFTa8McscCJuNI",
      "project": "FesuZy9nERkRH9r67vBe",
      "version": 1
     },
     "outputId": null
    }
   },
   "outputs": [],
   "source": [
    "standard_deviation = 0.02 * abs(dobs) + 2"
   ]
  },
  {
   "cell_type": "markdown",
   "metadata": {
    "iooxa": {
     "id": {
      "block": "Bfu9nCkVK0R3GFTBfD5H",
      "project": "FesuZy9nERkRH9r67vBe",
      "version": 1
     }
    }
   },
   "source": [
    "## Defining the Survey\n",
    "\n",
    "Here, we define a survey object that will be used for the simulation. \n",
    "The user needs an (N, 3) array to define\n",
    "the xyz locations of the observation locations and the list of field components\n",
    "which are to be modeled and the properties of the Earth's field."
   ]
  },
  {
   "cell_type": "code",
   "execution_count": 8,
   "metadata": {
    "iooxa": {
     "id": {
      "block": "zP3YD0OkTc9ENhPjbTWz",
      "project": "FesuZy9nERkRH9r67vBe",
      "version": 1
     },
     "outputId": null
    }
   },
   "outputs": [],
   "source": [
    "# Define the component(s) of the field we are inverting as a list. Here we will\n",
    "# Invert total magnetic intensity data.\n",
    "components = [\"tmi\"]\n",
    "\n",
    "# Use the observation locations and components to define the receivers. To\n",
    "# simulate data, the receivers must be defined as a list.\n",
    "receiver_list = magnetics.receivers.Point(receiver_locations, components=components)\n",
    "\n",
    "receiver_list = [receiver_list]\n",
    "\n",
    "# Define the inducing field H0 = (intensity [nT], inclination [deg], declination [deg])\n",
    "inclination = meta_data['inclination']\n",
    "declination = meta_data['declination']\n",
    "strength = meta_data['b0']\n",
    "inducing_field = (strength, inclination, declination)\n",
    "\n",
    "source_field = magnetics.sources.SourceField(\n",
    "    receiver_list=receiver_list, parameters=inducing_field\n",
    ")\n",
    "\n",
    "# Define the survey\n",
    "survey = magnetics.survey.Survey(source_field)"
   ]
  },
  {
   "cell_type": "markdown",
   "metadata": {
    "iooxa": {
     "id": {
      "block": "NFI3ARAHrmk0TLnNxdgp",
      "project": "FesuZy9nERkRH9r67vBe",
      "version": 1
     }
    }
   },
   "source": [
    "## Defining the Data\n",
    "\n",
    "Here is where we define the data that is inverted. The data is defined by\n",
    "the survey, the observation values and the standard deviations.\n",
    "\n",
    "\n"
   ]
  },
  {
   "cell_type": "code",
   "execution_count": 9,
   "metadata": {
    "iooxa": {
     "id": {
      "block": "17kdgUcgQfIkaHteoGly",
      "project": "FesuZy9nERkRH9r67vBe",
      "version": 1
     },
     "outputId": null
    }
   },
   "outputs": [],
   "source": [
    "data_object = data.Data(survey, dobs=dobs, standard_deviation=standard_deviation)"
   ]
  },
  {
   "cell_type": "markdown",
   "metadata": {
    "iooxa": {
     "id": {
      "block": "uGWOcn1YVf3AmFR4Ny87",
      "project": "FesuZy9nERkRH9r67vBe",
      "version": 1
     }
    }
   },
   "source": [
    "## Defining a Tensor Mesh\n",
    "\n",
    "Here, we create the tensor mesh that will be used to invert TMI data.\n",
    "If desired, we could define an OcTree mesh."
   ]
  },
  {
   "cell_type": "code",
   "execution_count": 10,
   "metadata": {
    "iooxa": {
     "id": {
      "block": "Emx4JRxt5izoIIwU8ina",
      "project": "FesuZy9nERkRH9r67vBe",
      "version": 1
     },
     "outputId": null
    }
   },
   "outputs": [],
   "source": [
    "dx = 100 \n",
    "dy = 100\n",
    "dz = 100\n",
    "depth_core = 1000\n",
    "padding_distance_x_left = 1000\n",
    "padding_distance_x_right = 1000\n",
    "padding_distance_y_left = 1000\n",
    "padding_distance_y_right= 1000\n",
    "padding_distance_z_lower = 1000\n",
    "padding_distance_z_upper = 0\n",
    "mesh = mesh_builder_xyz(\n",
    "    xyz=xyz_topo, \n",
    "    h=[dx, dy, dz], \n",
    "    depth_core=depth_core, \n",
    "    padding_distance=[\n",
    "        [padding_distance_x_left, padding_distance_x_right], \n",
    "        [padding_distance_y_left, padding_distance_y_right], \n",
    "        [padding_distance_z_lower, padding_distance_z_upper]\n",
    "    ]\n",
    ")"
   ]
  },
  {
   "cell_type": "code",
   "execution_count": 11,
   "metadata": {
    "iooxa": {
     "id": {
      "block": "3N6xgKtbGfC20FDVYFsp",
      "project": "FesuZy9nERkRH9r67vBe",
      "version": 1
     },
     "outputId": {
      "block": "lDXlJFe7PROuBdgMqRww",
      "project": "FesuZy9nERkRH9r67vBe",
      "version": 1
     }
    }
   },
   "outputs": [
    {
     "name": "stderr",
     "output_type": "stream",
     "text": [
      "<string>:6: UserWarning: Warning: converting a masked element to nan.\n",
      "C:\\Users\\sgkan\\AppData\\Roaming\\Python\\Python37\\site-packages\\numpy\\ma\\core.py:717: UserWarning: Warning: converting a masked element to nan.\n",
      "  data = np.array(a, copy=False, subok=subok)\n"
     ]
    },
    {
     "data": {
      "image/png": "[encoded data removed]",
      "text/plain": [
       "<Figure size 720x720 with 1 Axes>"
      ]
     },
     "metadata": {
      "needs_background": "light"
     },
     "output_type": "display_data"
    }
   ],
   "source": [
    "fig, ax = plt.subplots(1, 1, figsize=(10, 10))\n",
    "mesh.plotSlice(np.ones(mesh.nC)*np.nan, ax=ax, grid=True)\n",
    "ax.plot(receiver_locations[:,0], receiver_locations[:,1], 'r.')\n",
    "ax.set_xlabel(\"Easting (m)\")\n",
    "ax.set_ylabel(\"Northing (m)\")\n",
    "ax.set_aspect(1)"
   ]
  },
  {
   "cell_type": "code",
   "execution_count": 12,
   "metadata": {
    "iooxa": {
     "id": {
      "block": "PketRpNq9eDeCz2Hg8Sd",
      "project": "FesuZy9nERkRH9r67vBe",
      "version": 1
     },
     "outputId": {
      "block": "eIu7BaHX4EFP1qGDV5Fu",
      "project": "FesuZy9nERkRH9r67vBe",
      "version": 1
     }
    }
   },
   "outputs": [
    {
     "data": {
      "image/png": "[encoded data removed]",
      "text/plain": [
       "<Figure size 720x720 with 1 Axes>"
      ]
     },
     "metadata": {
      "needs_background": "light"
     },
     "output_type": "display_data"
    }
   ],
   "source": [
    "fig, ax = plt.subplots(1, 1, figsize=(10, 10))\n",
    "mesh.plotSlice(np.ones(mesh.nC)*np.nan, ax=ax, grid=True, normal='Y')\n",
    "ax.set_xlabel(\"Easting (m)\")\n",
    "ax.set_ylabel(\"Depth (m)\")\n",
    "ax.set_aspect(1)"
   ]
  },
  {
   "cell_type": "markdown",
   "metadata": {
    "iooxa": {
     "id": {
      "block": "pJTzXhrGHqthw9ntNRv2",
      "project": "FesuZy9nERkRH9r67vBe",
      "version": 1
     }
    }
   },
   "source": [
    "## Starting/Reference Model and Mapping on Tensor Mesh\n",
    "\n",
    "Here, we would create starting and/or reference models for the inversion as\n",
    "well as the mapping from the model space to the active cells. Starting and\n",
    "reference models can be a constant background value or contain a-priori\n",
    "structures. Here, the background is 1e-4 SI.\n",
    "\n",
    "\n"
   ]
  },
  {
   "cell_type": "code",
   "execution_count": 13,
   "metadata": {
    "iooxa": {
     "id": {
      "block": "M57lXY0THBaap8W2wzSw",
      "project": "FesuZy9nERkRH9r67vBe",
      "version": 1
     },
     "outputId": null
    }
   },
   "outputs": [],
   "source": [
    "# Define background susceptibility model in SI. Don't make this 0!\n",
    "# Otherwise the gradient for the 1st iteration is zero and the inversion will\n",
    "# not converge.\n",
    "background_susceptibility = 1e-4\n",
    "\n",
    "# Find the indecies of the active cells in forward model (ones below surface)\n",
    "ind_active = surface2ind_topo(mesh, np.c_[receiver_locations[:,:2], np.zeros(survey.nD)])\n",
    "\n",
    "# Define mapping from model to active cells\n",
    "nC = int(ind_active.sum())\n",
    "model_map = maps.IdentityMap(nP=nC)  # model consists of a value for each cell\n",
    "\n",
    "# Define starting model\n",
    "starting_model = background_susceptibility * np.ones(nC)\n",
    "reference_model = np.zeros(nC) "
   ]
  },
  {
   "cell_type": "markdown",
   "metadata": {
    "iooxa": {
     "id": {
      "block": "jvQIJqPdFKO9TlRzPJsE",
      "project": "FesuZy9nERkRH9r67vBe",
      "version": 1
     }
    }
   },
   "source": [
    "## Define the Physics\n",
    "\n",
    "Here, we define the physics of the magnetics problem by using the simulation\n",
    "class.\n",
    "\n",
    "\n"
   ]
  },
  {
   "cell_type": "code",
   "execution_count": 14,
   "metadata": {
    "iooxa": {
     "id": {
      "block": "b8u2dHOg51oNDo5o4xvF",
      "project": "FesuZy9nERkRH9r67vBe",
      "version": 1
     },
     "outputId": null
    }
   },
   "outputs": [],
   "source": [
    "# Define the problem. Define the cells below topography and the mapping\n",
    "simulation = magnetics.simulation.Simulation3DIntegral(\n",
    "    survey=survey,\n",
    "    mesh=mesh,\n",
    "    modelType=\"susceptibility\",\n",
    "    chiMap=model_map,\n",
    "    actInd=ind_active,\n",
    ")"
   ]
  },
  {
   "cell_type": "markdown",
   "metadata": {
    "iooxa": {
     "id": {
      "block": "k7pl5S6JfwtM3TGGA87G",
      "project": "FesuZy9nERkRH9r67vBe",
      "version": 1
     }
    }
   },
   "source": [
    "## Define Inverse Problem\n",
    "\n",
    "The inverse problem is defined by 3 things:\n",
    "\n",
    "    1) Data Misfit: a measure of how well our recovered model explains the field data\n",
    "    2) Regularization: constraints placed on the recovered model and a priori information\n",
    "    3) Optimization: the numerical approach used to solve the inverse problem\n",
    "\n",
    "\n"
   ]
  },
  {
   "cell_type": "code",
   "execution_count": 15,
   "metadata": {
    "iooxa": {
     "id": {
      "block": "xYq92mR9VSr3IkNnB0B1",
      "project": "FesuZy9nERkRH9r67vBe",
      "version": 1
     },
     "outputId": null
    }
   },
   "outputs": [],
   "source": [
    "# Define the data misfit. Here the data misfit is the L2 norm of the weighted\n",
    "# residual between the observed data and the data predicted for a given model.\n",
    "# Within the data misfit, the residual between predicted and observed data are\n",
    "# normalized by the data's standard deviation.\n",
    "dmis = data_misfit.L2DataMisfit(data=data_object, simulation=simulation)\n",
    "\n",
    "# Define the regularization (model objective function)\n",
    "reg = regularization.Sparse(\n",
    "    mesh,\n",
    "    indActive=ind_active,\n",
    "    mapping=model_map,\n",
    "    mref=reference_model,\n",
    "    gradientType=\"total\",\n",
    "    alpha_s=1,\n",
    "    alpha_x=1,\n",
    "    alpha_y=1,\n",
    "    alpha_z=1,\n",
    ")\n",
    "\n",
    "# Define sparse and blocky norms ps, px, py, pz\n",
    "ps = 0\n",
    "px = 2\n",
    "py = 2\n",
    "pz = 2\n",
    "reg.norms = np.c_[ps, px, py, pz]\n",
    "\n",
    "# Define how the optimization problem is solved. Here we will use a projected\n",
    "# Gauss-Newton approach that employs the conjugate gradient solver.\n",
    "opt = optimization.ProjectedGNCG(\n",
    "    maxIter=100, lower=0.0, upper=np.Inf, maxIterLS=20, maxIterCG=30, tolCG=1e-3\n",
    ")\n",
    "\n",
    "# Here we define the inverse problem that is to be solved\n",
    "inv_prob = inverse_problem.BaseInvProblem(dmis, reg, opt)"
   ]
  },
  {
   "cell_type": "markdown",
   "metadata": {
    "iooxa": {
     "id": {
      "block": "9dnfccgTdxMgTgEUhWyX",
      "project": "FesuZy9nERkRH9r67vBe",
      "version": 1
     }
    }
   },
   "source": [
    "## Define Inversion Directives\n",
    "\n",
    "Here we define any directiveas that are carried out during the inversion. This\n",
    "includes the cooling schedule for the trade-off parameter (beta), stopping\n",
    "criteria for the inversion and saving inversion results at each iteration.\n",
    "\n",
    "\n"
   ]
  },
  {
   "cell_type": "code",
   "execution_count": 16,
   "metadata": {
    "iooxa": {
     "id": {
      "block": "xoattZV3IOqjWDTFQ5vA",
      "project": "FesuZy9nERkRH9r67vBe",
      "version": 1
     },
     "outputId": null
    }
   },
   "outputs": [],
   "source": [
    "# Defining a starting value for the trade-off parameter (beta) between the data\n",
    "# misfit and the regularization.\n",
    "starting_beta = directives.BetaEstimate_ByEig(beta0_ratio=1)\n",
    "beta_schedule = directives.BetaSchedule(coolingFactor=2, coolingRate=1)\n",
    "\n",
    "# Options for outputting recovered models and predicted data as a dictionary\n",
    "save_dictionary = directives.SaveOutputDictEveryIteration()\n",
    "\n",
    "# Defines the directives for the IRLS regularization. This includes setting\n",
    "# the cooling schedule for the trade-off parameter.\n",
    "update_IRLS = directives.Update_IRLS(\n",
    "    f_min_change=1e-3, max_irls_iterations=20, coolEpsFact=1.5, beta_tol=1e-2,\n",
    "    chifact_target=1, chifact_start=1\n",
    ")\n",
    "\n",
    "# Updating the preconditionner if it is model dependent.\n",
    "update_jacobi = directives.UpdatePreconditioner()\n",
    "\n",
    "# Setting a stopping criteria for the inversion.\n",
    "target_misfit = directives.TargetMisfit(chifact=1)\n",
    "\n",
    "# Add sensitivity weights\n",
    "sensitivity_weights = directives.UpdateSensitivityWeights(everyIter=False)\n",
    "opt.remember('xc')\n",
    "# The directives are defined as a list.\n",
    "directives_list = [\n",
    "    sensitivity_weights,\n",
    "    starting_beta,\n",
    "    save_dictionary,\n",
    "    update_IRLS,\n",
    "    update_jacobi,\n",
    "]"
   ]
  },
  {
   "cell_type": "markdown",
   "metadata": {
    "iooxa": {
     "id": {
      "block": "QAEzeEMBS4UYigFzuPac",
      "project": "FesuZy9nERkRH9r67vBe",
      "version": 1
     }
    }
   },
   "source": [
    "## Running the Inversion\n",
    "\n",
    "To define the inversion object, we need to define the inversion problem and\n",
    "the set of directives. We can then run the inversion.\n",
    "\n",
    "\n"
   ]
  },
  {
   "cell_type": "code",
   "execution_count": 17,
   "metadata": {
    "iooxa": {
     "id": {
      "block": "gQ5328059eGkAsDbWips",
      "project": "FesuZy9nERkRH9r67vBe",
      "version": 1
     },
     "outputId": {
      "block": "f1fmFdNpovSwRy4Sve6F",
      "project": "FesuZy9nERkRH9r67vBe",
      "version": 1
     }
    }
   },
   "outputs": [
    {
     "name": "stdout",
     "output_type": "stream",
     "text": [
      "\n",
      "        SimPEG.InvProblem is setting bfgsH0 to the inverse of the eval2Deriv.\n",
      "        ***Done using same Solver and solverOpts as the problem***\n",
      "((819,), (18375, 18375))\n",
      "Computing sensitivities to local ram\n",
      "[########################################] | 100% Completed | 18.1s\n",
      "model has any nan: 0\n",
      "=============================== Projected GNCG ===============================\n",
      "  #     beta     phi_d     phi_m       f      |proj(x-g)-x|  LS    Comment   \n",
      "-----------------------------------------------------------------------------\n",
      "x0 has any nan: 0\n",
      "   0  5.22e+06  3.24e+05  4.09e-06  3.24e+05    7.59e+05      0              \n",
      "   1  2.61e+06  9.13e+04  5.12e-03  1.05e+05    4.15e+05      0              \n",
      "   2  1.30e+06  4.13e+04  1.23e-02  5.74e+04    1.37e+05      0   Skip BFGS  \n",
      "   3  6.52e+05  2.85e+04  1.87e-02  4.08e+04    1.76e+05      0   Skip BFGS  \n",
      "   4  3.26e+05  1.78e+04  2.85e-02  2.71e+04    1.25e+05      0   Skip BFGS  \n",
      "   5  1.63e+05  1.48e+04  3.44e-02  2.04e+04    1.16e+05      1   Skip BFGS  \n",
      "   6  8.15e+04  8.19e+03  6.04e-02  1.31e+04    7.66e+04      0              \n",
      "   7  4.08e+04  3.84e+03  8.30e-02  7.22e+03    8.45e+04      0              \n",
      "   8  2.04e+04  2.60e+03  1.08e-01  4.80e+03    1.05e+05      0   Skip BFGS  \n",
      "   9  1.02e+04  1.73e+03  1.18e-01  2.93e+03    6.45e+04      1              \n",
      "  10  5.10e+03  8.16e+02  1.44e-01  1.55e+03    3.28e+04      0   Skip BFGS  \n",
      "  11  2.55e+03  4.37e+02  1.55e-01  8.31e+02    2.34e+04      0              \n",
      "Reached starting chifact with l2-norm regularization: Start IRLS steps...\n",
      "eps_p: 0.3939384326453484 eps_q: 0.3939384326453484\n",
      "  12  1.27e+03  2.00e+02  2.42e-01  5.09e+02    2.24e+04      0              \n",
      "  13  2.68e+03  1.86e+02  2.90e-01  9.64e+02    1.94e+04      0              \n",
      "  14  5.70e+03  1.82e+02  3.37e-01  2.10e+03    1.70e+04      3   Skip BFGS  \n",
      "  15  1.23e+04  1.77e+02  3.81e-01  4.87e+03    2.04e+04      3              \n",
      "  16  2.00e+04  3.27e+02  4.03e-01  8.38e+03    3.32e+04      2              \n",
      "  17  1.10e+04  1.17e+03  3.68e-01  5.22e+03    9.69e+04      1              \n",
      "  18  6.45e+03  9.65e+02  3.86e-01  3.45e+03    9.24e+04      1              \n",
      "  19  3.94e+03  8.71e+02  4.04e-01  2.46e+03    5.83e+04      1   Skip BFGS  \n",
      "  20  2.64e+03  6.96e+02  4.12e-01  1.78e+03    3.83e+04      1              \n",
      "  21  1.80e+03  6.68e+02  4.08e-01  1.40e+03    6.62e+04      1   Skip BFGS  \n",
      "  22  1.25e+03  6.39e+02  4.09e-01  1.15e+03    1.02e+05      0              \n",
      "  23  2.47e+03  2.10e+02  3.86e-01  1.16e+03    2.11e+04      0              \n",
      "  24  4.87e+03  2.10e+02  3.36e-01  1.85e+03    1.50e+04      1              \n",
      "  25  3.87e+03  4.88e+02  2.49e-01  1.45e+03    5.68e+04      0              \n",
      "  26  9.44e+03  1.42e+02  2.26e-01  2.28e+03    1.86e+04      0              \n",
      "  27  1.60e+04  2.95e+02  1.70e-01  3.01e+03    6.22e+03      0              \n",
      "  28  1.28e+04  4.82e+02  1.38e-01  2.25e+03    9.84e+03      0              \n",
      "  29  2.09e+04  3.23e+02  1.38e-01  3.20e+03    3.71e+03      0              \n",
      "  30  1.57e+04  5.43e+02  1.18e-01  2.40e+03    6.39e+03      0              \n",
      "  31  2.44e+04  3.72e+02  1.23e-01  3.36e+03    3.49e+03      0              \n",
      "Reach maximum number of IRLS cycles: 20\n",
      "------------------------- STOP! -------------------------\n",
      "1 : |fc-fOld| = 0.0000e+00 <= tolF*(1+|f0|) = 3.2360e+04\n",
      "0 : |xc-x_last| = 2.3015e-01 <= tolX*(1+|x0|) = 1.0192e-01\n",
      "0 : |proj(x-g)-x|    = 3.4870e+03 <= tolG          = 1.0000e-01\n",
      "0 : |proj(x-g)-x|    = 3.4870e+03 <= 1e3*eps       = 1.0000e-02\n",
      "0 : maxIter   =     100    <= iter          =     32\n",
      "------------------------- DONE! -------------------------\n"
     ]
    }
   ],
   "source": [
    "# Here we combine the inverse problem and the set of directives\n",
    "inv = inversion.BaseInversion(inv_prob, directives_list)\n",
    "\n",
    "# Print target misfit to compare with convergence\n",
    "# print(\"Target misfit is \" + str(target_misfit.target))\n",
    "\n",
    "# Run the inversion\n",
    "recovered_model = inv.run(starting_model)"
   ]
  },
  {
   "cell_type": "code",
   "execution_count": 18,
   "metadata": {
    "iooxa": {
     "id": {
      "block": "s1NBa8bHKt5ID5psRCtC",
      "project": "FesuZy9nERkRH9r67vBe",
      "version": 1
     },
     "outputId": null
    }
   },
   "outputs": [],
   "source": [
    "def plot_tikhonov_curve(iteration, scale):\n",
    "    phi_d = []\n",
    "    phi_m = []\n",
    "    beta = []\n",
    "    iterations = np.arange(len(save_dictionary.outDict)) + 1\n",
    "    for kk in iterations:\n",
    "        phi_d.append(save_dictionary.outDict[kk]['phi_d'])\n",
    "        phi_m.append(save_dictionary.outDict[kk]['phi_m'])\n",
    "        beta.append(save_dictionary.outDict[kk]['beta'])\n",
    "    fig, axs = plt.subplots(1, 2, figsize=(12,5))\n",
    "    axs[0].plot(phi_m ,phi_d, 'k.-')\n",
    "    axs[0].plot(phi_m[iteration-1] ,phi_d[iteration-1], 'go', ms=10)\n",
    "    axs[0].set_xlabel(\"$\\phi_m$\")\n",
    "    axs[0].set_ylabel(\"$\\phi_d$\")\n",
    "    axs[0].grid(True)\n",
    "\n",
    "    axs[1].plot(iterations, phi_d, 'k.-')\n",
    "    axs[1].plot(iterations[iteration-1], phi_d[iteration-1], 'go', ms=10)\n",
    "    ax_1 = axs[1].twinx()\n",
    "    ax_1.plot(iterations, phi_m, 'r.-')\n",
    "    ax_1.plot(iterations[iteration-1], phi_m[iteration-1], 'go', ms=10)\n",
    "    axs[1].set_ylabel(\"$\\phi_d$\")\n",
    "    ax_1.set_ylabel(\"$\\phi_m$\")\n",
    "    axs[1].set_xlabel(\"Iterations\")\n",
    "    axs[1].grid(True)\n",
    "    axs[0].set_title(\n",
    "        \"$\\phi_d$={:.1e}, $\\phi_m$={:.1e}, $\\\\beta$={:.1e}\".format(phi_d[iteration-1], phi_m[iteration-1], beta[iteration-1]),\n",
    "        fontsize = 14\n",
    "    )\n",
    "    axs[1].set_title(\"Target misfit={:.0f}\".format(survey.nD/2))\n",
    "    for ii, ax in enumerate(axs):        \n",
    "        if ii == 0:\n",
    "            ax.set_xscale(scale)        \n",
    "        ax.set_yscale(scale)\n",
    "        xlim = ax.get_xlim()\n",
    "        ax.hlines(survey.nD/2, xlim[0], xlim[1], linestyle='--', label='$\\phi_d^{*}$')\n",
    "        ax.set_xlim(xlim)\n",
    "    axs[0].legend()\n",
    "    plt.tight_layout()    "
   ]
  },
  {
   "cell_type": "code",
   "execution_count": 40,
   "metadata": {
    "iooxa": {
     "id": {
      "block": "qVnPWo578COas4ItZ6jR",
      "project": "FesuZy9nERkRH9r67vBe",
      "version": 1
     },
     "outputId": {
      "block": "JsoHKBWN62IFY8vMpwF2",
      "project": "FesuZy9nERkRH9r67vBe",
      "version": 1
     }
    }
   },
   "outputs": [
    {
     "data": {
      "application/vnd.jupyter.widget-view+json": {
       "model_id": "5f10999d96de4e89abf872b688e6bc53",
       "version_major": 2,
       "version_minor": 0
      },
      "text/plain": [
       "interactive(children=(IntSlider(value=1, continuous_update=False, description='iteration', max=32, min=1), Rad…"
      ]
     },
     "metadata": {},
     "output_type": "display_data"
    },
    {
     "data": {
      "text/plain": [
       "<function __main__.plot_tikhonov_curve(iteration, scale)>"
      ]
     },
     "execution_count": 40,
     "metadata": {},
     "output_type": "execute_result"
    }
   ],
   "source": [
    "interact(\n",
    "    plot_tikhonov_curve, \n",
    "    iteration=widgets.IntSlider(min=1, max=len(save_dictionary.outDict), step=1, continuous_update=False),\n",
    "    scale=widgets.RadioButtons(options=[\"linear\", \"log\"])\n",
    ")"
   ]
  },
  {
   "cell_type": "code",
   "execution_count": 41,
   "metadata": {
    "iooxa": {
     "id": {
      "block": "1uBaWvM9cFr371dHqT8o",
      "project": "FesuZy9nERkRH9r67vBe",
      "version": 1
     },
     "outputId": null
    }
   },
   "outputs": [],
   "source": [
    "susceptibility_model = save_dictionary.outDict[31]['m']"
   ]
  },
  {
   "cell_type": "code",
   "execution_count": 42,
   "metadata": {
    "iooxa": {
     "id": {
      "block": "am3p4LsPAGjCvlEssNOk",
      "project": "FesuZy9nERkRH9r67vBe",
      "version": 1
     },
     "outputId": null
    }
   },
   "outputs": [],
   "source": [
    "def plot_model_histogram(iteration, yscale):\n",
    "    out = plt.hist(save_dictionary.outDict[iteration]['m'], bins=np.linspace(0, 0.1))\n",
    "    plt.xlabel('Susceptibility (SI)')\n",
    "    plt.yscale(yscale)\n",
    "    plt.ylabel('Counts')\n",
    "#     plt.ylim(10, 1e5)\n"
   ]
  },
  {
   "cell_type": "code",
   "execution_count": 43,
   "metadata": {
    "iooxa": {
     "id": {
      "block": "GiHN32hUsqD73U53As9y",
      "project": "FesuZy9nERkRH9r67vBe",
      "version": 1
     },
     "outputId": {
      "block": "yCQZOejMhi7rP8n6SKSC",
      "project": "FesuZy9nERkRH9r67vBe",
      "version": 1
     }
    }
   },
   "outputs": [
    {
     "data": {
      "application/vnd.jupyter.widget-view+json": {
       "model_id": "addf0c0e6eac4093857051a8dd570dbc",
       "version_major": 2,
       "version_minor": 0
      },
      "text/plain": [
       "interactive(children=(IntSlider(value=1, description='iteration', max=32, min=1), RadioButtons(description='ys…"
      ]
     },
     "metadata": {},
     "output_type": "display_data"
    },
    {
     "data": {
      "text/plain": [
       "<function __main__.plot_model_histogram(iteration, yscale)>"
      ]
     },
     "execution_count": 43,
     "metadata": {},
     "output_type": "execute_result"
    }
   ],
   "source": [
    "interact(\n",
    "    plot_model_histogram, \n",
    "    iteration=widgets.IntSlider(min=1, max=len(save_dictionary.outDict), step=1),\n",
    "    yscale=widgets.RadioButtons(options=[\"linear\", \"log\"])\n",
    ")"
   ]
  },
  {
   "cell_type": "code",
   "execution_count": 44,
   "metadata": {
    "iooxa": {
     "id": {
      "block": "wfKAKue4ZpRyEaI4pDOM",
      "project": "FesuZy9nERkRH9r67vBe",
      "version": 1
     },
     "outputId": null
    }
   },
   "outputs": [],
   "source": [
    "def plot_dobs_vs_dpred(iteration):\n",
    "    # Predicted data with final recovered model\n",
    "    dpred = save_dictionary.outDict[iteration]['dpred']\n",
    "\n",
    "    # Observed data | Predicted data | Normalized data misfit\n",
    "    data_array = np.c_[dobs, dpred, (dobs - dpred) / standard_deviation]\n",
    "    vmin, vmax = dobs.min(), dobs.max()\n",
    "    fig = plt.figure(figsize=(17, 4))\n",
    "    plot_title = [\"Observed\", \"Predicted\", \"Normalized Misfit\"]\n",
    "    plot_units = [\"nT\", \"nT\", \"\"]\n",
    "\n",
    "    ax1 = 3 * [None]\n",
    "    ax2 = 3 * [None]\n",
    "    norm = 3 * [None]\n",
    "    cbar = 3 * [None]\n",
    "    cplot = 3 * [None]\n",
    "    v_lim = [(vmin, vmax), (vmin, vmax),(-3,3)]\n",
    "\n",
    "    for ii in range(0, 3):\n",
    "\n",
    "        ax1[ii] = fig.add_axes([0.33 * ii + 0.03, 0.11, 0.25, 0.84])\n",
    "        cplot[ii] = plot2Ddata(\n",
    "            receiver_list[0].locations,\n",
    "            data_array[:, ii],\n",
    "            ax=ax1[ii],\n",
    "            ncontour=30,\n",
    "            clim=v_lim[ii],\n",
    "            contourOpts={\"cmap\": \"Spectral_r\"},\n",
    "        )\n",
    "        ax1[ii].set_title(plot_title[ii])\n",
    "        ax1[ii].set_xlabel(\"x (m)\")\n",
    "        ax1[ii].set_ylabel(\"y (m)\")\n",
    "\n",
    "        ax2[ii] = fig.add_axes([0.33 * ii + 0.27, 0.11, 0.01, 0.84])\n",
    "        norm[ii] = mpl.colors.Normalize(vmin=v_lim[ii][0], vmax=v_lim[ii][1])\n",
    "        cbar[ii] = mpl.colorbar.ColorbarBase(\n",
    "            ax2[ii], norm=norm[ii], orientation=\"vertical\", cmap=mpl.cm.Spectral_r\n",
    "        )\n",
    "        cbar[ii].set_label(plot_units[ii], rotation=270, labelpad=15, size=12)\n",
    "    for ax in ax1[1:]:\n",
    "        ax.set_ylabel(\"\")\n",
    "        ax.set_yticklabels([])\n",
    "    plt.show()"
   ]
  },
  {
   "cell_type": "code",
   "execution_count": 45,
   "metadata": {
    "iooxa": {
     "id": {
      "block": "e9SIBXX14ow1fa2Ug2S8",
      "project": "FesuZy9nERkRH9r67vBe",
      "version": 1
     },
     "outputId": {
      "block": "28DF3QQTrsk5RNq7Xnv8",
      "project": "FesuZy9nERkRH9r67vBe",
      "version": 1
     }
    }
   },
   "outputs": [
    {
     "data": {
      "application/vnd.jupyter.widget-view+json": {
       "model_id": "200c6fe0be5940a49a92a528328aadaa",
       "version_major": 2,
       "version_minor": 0
      },
      "text/plain": [
       "interactive(children=(IntSlider(value=1, description='iteration', max=32, min=1), Output()), _dom_classes=('wi…"
      ]
     },
     "metadata": {},
     "output_type": "display_data"
    },
    {
     "data": {
      "text/plain": [
       "<function __main__.plot_dobs_vs_dpred(iteration)>"
      ]
     },
     "execution_count": 45,
     "metadata": {},
     "output_type": "execute_result"
    }
   ],
   "source": [
    "interact(plot_dobs_vs_dpred, iteration=widgets.IntSlider(min=1, max=len(save_dictionary.outDict), step=1, value=1))"
   ]
  },
  {
   "cell_type": "code",
   "execution_count": 46,
   "metadata": {
    "iooxa": {
     "id": {
      "block": "rFCb20u7KpIf4VSmnEBa",
      "project": "FesuZy9nERkRH9r67vBe",
      "version": 1
     },
     "outputId": {
      "block": "RUiWSHv62CDX0G4XFeRH",
      "project": "FesuZy9nERkRH9r67vBe",
      "version": 1
     }
    }
   },
   "outputs": [
    {
     "data": {
      "application/vnd.jupyter.widget-view+json": {
       "model_id": "daca122bda694a62a995441635b95784",
       "version_major": 2,
       "version_minor": 0
      },
      "text/plain": [
       "interactive(children=(IntSlider(value=1, description='iteration', max=32, min=1), FloatText(value=2000.0, desc…"
      ]
     },
     "metadata": {},
     "output_type": "display_data"
    },
    {
     "data": {
      "text/plain": [
       "<function __main__.plot_recovered_model(iteration, xslice, yslice, zslice, vmax)>"
      ]
     },
     "execution_count": 46,
     "metadata": {},
     "output_type": "execute_result"
    }
   ],
   "source": [
    "def plot_recovered_model(iteration, xslice, yslice, zslice, vmax):\n",
    "    fig = plt.figure(figsize=(10, 10))\n",
    "    mesh.plot_3d_slicer(\n",
    "        save_dictionary.outDict[iteration]['m'], clim=(0, vmax),\n",
    "        xslice=xslice,\n",
    "        yslice=yslice,\n",
    "        zslice=zslice,\n",
    "        fig=fig,\n",
    "        pcolor_opts={'cmap':'Spectral_r'}\n",
    "    )\n",
    "interact(\n",
    "    plot_recovered_model, \n",
    "    iteration=widgets.IntSlider(min=1, max=len(save_dictionary.outDict), value=0),\n",
    "    xslice=widgets.FloatText(value=2000, step=100),\n",
    "    yslice=widgets.FloatText(value=41000, step=100),\n",
    "    zslice=widgets.FloatText(value=-800, step=100),\n",
    "    vmax=widgets.FloatText(value=0.07),\n",
    ")"
   ]
  },
  {
   "cell_type": "markdown",
   "metadata": {
    "iooxa": {
     "id": {
      "block": "mYiSLbeGieb8NTsKbWqW",
      "project": "FesuZy9nERkRH9r67vBe",
      "version": 1
     }
    }
   },
   "source": [
    "## Comparing the historic model with the recovered model\n"
   ]
  },
  {
   "cell_type": "code",
   "execution_count": 47,
   "metadata": {
    "iooxa": {
     "id": {
      "block": "ALFEYmYgU5pSpAq3bjoT",
      "project": "FesuZy9nERkRH9r67vBe",
      "version": 1
     },
     "outputId": null
    }
   },
   "outputs": [],
   "source": [
    "from discretize.utils import ExtractCoreMesh\n",
    "zmin, zmax = -1500, 0\n",
    "ymin, ymax = receiver_locations[:,1].min(), receiver_locations[:,1].max()\n",
    "xmin, xmax = receiver_locations[:,0].min(), receiver_locations[:,0].max()\n",
    "xyzlim = np.array([[xmin, xmax],[ymin, ymax], [zmin, zmax]])\n",
    "inds_core, mesh_core = ExtractCoreMesh(xyzlim, mesh)"
   ]
  },
  {
   "cell_type": "code",
   "execution_count": 48,
   "metadata": {
    "iooxa": {
     "id": {
      "block": "KURVN5vpHplvEsqxTZz8",
      "project": "FesuZy9nERkRH9r67vBe",
      "version": 1
     },
     "outputId": null
    }
   },
   "outputs": [],
   "source": [
    "import pyvista as pv\n",
    "def plot_3d_with_pyvista(model, notebook=True, threshold=0.04):\n",
    "    pv.set_plot_theme(\"document\")\n",
    "    # Get the PyVista dataset of the inverted model\n",
    "    dataset = mesh_core.to_vtk({'susceptibility':model})\n",
    "    # Create the rendering scene\n",
    "    p = pv.Plotter(notebook=notebook)\n",
    "    # add a grid axes\n",
    "    p.show_grid()\n",
    "    # Extract volumetric threshold\n",
    "    threshed = dataset.threshold(threshold, invert=False)\n",
    "    # Add spatially referenced data to the scene\n",
    "    dparams = dict(\n",
    "        show_edges=False,\n",
    "        cmap=\"Spectral_r\",\n",
    "        clim=[0, 0.07],\n",
    "        stitle='Susceptibility (SI)', \n",
    "    )\n",
    "    p.add_mesh(threshed, **dparams)\n",
    "    p.set_scale(1,1,1)\n",
    "    cpos = [(-5248.506818695238, 35263.832232792156, 4945.734122744097),\n",
    "     (2140.1554568144284, 40814.32410594353, -1198.9698078219635),\n",
    "     (0.4274014723619113, 0.35262874486945933, 0.8324547733749025)]\n",
    "    p.camera_position = cpos\n",
    "    p.show(window_size=[1024, 768])"
   ]
  },
  {
   "cell_type": "markdown",
   "metadata": {
    "iooxa": {
     "id": {
      "block": "C4qI6WHmxq7cc5LAbOmz",
      "project": "FesuZy9nERkRH9r67vBe",
      "version": 1
     }
    }
   },
   "source": [
    "### Recovered susceptiblity model from L2-norm inversion"
   ]
  },
  {
   "cell_type": "code",
   "execution_count": 59,
   "metadata": {
    "iooxa": {
     "id": {
      "block": "m5WoFEunUeIefQ3nxsp4",
      "project": "FesuZy9nERkRH9r67vBe",
      "version": 1
     },
     "outputId": {
      "block": "5AgnYefnFLeN9mUHP3kV",
      "project": "FesuZy9nERkRH9r67vBe",
      "version": 1
     }
    }
   },
   "outputs": [
    {
     "data": {
      "image/png": "[encoded data removed]",
      "text/plain": [
       "<PIL.Image.Image image mode=RGB size=1024x768 at 0x152E4E10AC8>"
      ]
     },
     "metadata": {},
     "output_type": "display_data"
    }
   ],
   "source": [
    "plot_3d_with_pyvista(inv_prob.l2model[inds_core], notebook=True, threshold=0.05)"
   ]
  },
  {
   "cell_type": "markdown",
   "metadata": {
    "iooxa": {
     "id": {
      "block": "Qz9yky7qUFvKfbVwyWLb",
      "project": "FesuZy9nERkRH9r67vBe",
      "version": 1
     }
    }
   },
   "source": [
    "### Recovered susceptiblity model from Lp-norm inversion"
   ]
  },
  {
   "cell_type": "code",
   "execution_count": 67,
   "metadata": {
    "iooxa": {
     "id": {
      "block": "ZTgDJB0thZrQDM2jidBS",
      "project": "FesuZy9nERkRH9r67vBe",
      "version": 1
     },
     "outputId": {
      "block": "q1OOmsjAY081euRb95nt",
      "project": "FesuZy9nERkRH9r67vBe",
      "version": 1
     }
    }
   },
   "outputs": [
    {
     "data": {
      "image/png": "[encoded data removed]",
      "text/plain": [
       "<PIL.Image.Image image mode=RGB size=1024x768 at 0x152B4C44BA8>"
      ]
     },
     "metadata": {},
     "output_type": "display_data"
    }
   ],
   "source": [
    "plot_3d_with_pyvista(susceptibility_model[inds_core], notebook=True, threshold=0.07)\n"
   ]
  },
  {
   "cell_type": "code",
   "execution_count": null,
   "metadata": {
    "iooxa": null
   },
   "outputs": [],
   "source": []
  }
 ],
 "metadata": {
  "iooxa": {
   "id": {
    "block": "cjnIdgfF82YJ74eqHMm7",
    "project": "FesuZy9nERkRH9r67vBe",
    "version": 4
   }
  },
  "kernelspec": {
   "display_name": "Python 3",
   "language": "python",
   "name": "python3"
  },
  "language_info": {
   "codemirror_mode": {
    "name": "ipython",
    "version": 3
   },
   "file_extension": ".py",
   "mimetype": "text/x-python",
   "name": "python",
   "nbconvert_exporter": "python",
   "pygments_lexer": "ipython3",
   "version": "3.7.3"
  }
 },
 "nbformat": 4,
 "nbformat_minor": 4
}
